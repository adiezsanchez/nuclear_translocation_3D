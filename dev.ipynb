{
 "cells": [
  {
   "cell_type": "code",
   "execution_count": 20,
   "metadata": {},
   "outputs": [],
   "source": [
    "from pathlib import Path\n",
    "from skimage import io\n",
    "import tifffile\n",
    "import os\n",
    "import napari"
   ]
  },
  {
   "cell_type": "code",
   "execution_count": 21,
   "metadata": {},
   "outputs": [],
   "source": [
    "def read_images(directory_path):\n",
    "    \"\"\"Reads all the images in the input path and organizes them according to the well_id\"\"\"\n",
    "    # Define the directory containing your files\n",
    "    directory_path = Path(directory_path)\n",
    "\n",
    "    # Initialize a dictionary to store the grouped (per position) files\n",
    "    images_per_position = {}\n",
    "\n",
    "    # Iterate through the files in the directory\n",
    "    for file_path in directory_path.glob(\"*\"):\n",
    "        # Check if the path is a file and ends with \".tif\"\n",
    "        if file_path.is_file() and file_path.suffix.lower() == \".tif\":\n",
    "            # Get the filename without the extension\n",
    "            filename = file_path.stem\n",
    "            # Remove unwanted files (Plate_R files)\n",
    "            if \"ch02\" in filename:\n",
    "                pass\n",
    "            # Remove any other unwanted files\n",
    "            elif \"_z\" not in filename:\n",
    "                pass\n",
    "            else:\n",
    "                # Extract the last part of the filename (e.g., 1_Crop001_z00_ch00)\n",
    "                last_part = filename.split(\" \")[1]\n",
    "\n",
    "                # Get the first three letters to create the group name (position_id)\n",
    "                position_id = last_part[:1]\n",
    "\n",
    "                # Check if the well_id exists in the dictionary, if not, create a new list\n",
    "                if position_id not in images_per_position:\n",
    "                    images_per_position[position_id] = []\n",
    "\n",
    "                # Append the file to the corresponding group\n",
    "                images_per_position[position_id].append(str(file_path))\n",
    "\n",
    "    return images_per_position\n",
    "\n",
    "def create_stack(image_paths):\n",
    "    \"\"\"Takes a collection of image paths containing individual z-stacks and returns a stack of images\"\"\"\n",
    "    # Load images from the specified paths\n",
    "    image_collection = io.ImageCollection(image_paths)\n",
    "    # Stack images into a single 3D numpy array\n",
    "    stack = io.concatenate_images(image_collection)\n",
    "    \n",
    "    return stack\n",
    "\n",
    "def save_stacks(images_per_position, output_dir=\"./output/processed_stacks\"):\n",
    "    \"\"\"Takes a images_per_position from read_images as input, stacks them on a per channel basis and saves the resulting images on a per position basis\"\"\"\n",
    "    for position_id, files in images_per_position.items():\n",
    "        \n",
    "        ch00_paths = []\n",
    "        ch01_paths = []\n",
    "        \n",
    "        for image_path in images_per_position[position_id]:\n",
    "            if \"ch00\" in image_path:\n",
    "                ch00_paths.append(image_path)\n",
    "            elif \"ch01\" in image_path:\n",
    "                ch01_paths.append(image_path)\n",
    "                \n",
    "        \n",
    "        # Generate the stacks\n",
    "        ch00_stack = create_stack(ch00_paths)\n",
    "        ch01_stack = create_stack(ch01_paths)\n",
    "\n",
    "        # Create a directory to store the tif files if it doesn't exist\n",
    "        Path(output_dir).mkdir(parents=True, exist_ok=True)\n",
    "\n",
    "        # Construct the output file path\n",
    "        output_path_ch00 = os.path.join(output_dir, f\"Position {position_id}_ch00.tif\")\n",
    "        output_path_ch01 = os.path.join(output_dir, f\"Position {position_id}_ch01.tif\")\n",
    "\n",
    "        # Save the resulting minimum projection\n",
    "        tifffile.imwrite(output_path_ch00, ch00_stack)\n",
    "        tifffile.imwrite(output_path_ch01, ch01_stack)\n",
    "        \n",
    "def return_stacks(images_per_position):\n",
    "    \"\"\"Takes a images_per_position from read_images as input, stacks them on a per channel basis and returns the stacks\"\"\"\n",
    "    for position_id, files in images_per_position.items():\n",
    "        \n",
    "        ch00_paths = []\n",
    "        ch01_paths = []\n",
    "        \n",
    "        for image_path in images_per_position[position_id]:\n",
    "            if \"ch00\" in image_path:\n",
    "                ch00_paths.append(image_path)\n",
    "            elif \"ch01\" in image_path:\n",
    "                ch01_paths.append(image_path)\n",
    "                \n",
    "        \n",
    "        # Generate the stacks\n",
    "        ch00_stack = create_stack(ch00_paths)\n",
    "        ch01_stack = create_stack(ch01_paths)\n",
    "\n",
    "        return ch00_stack, ch01_stack"
   ]
  },
  {
   "cell_type": "code",
   "execution_count": 22,
   "metadata": {},
   "outputs": [],
   "source": [
    "images_per_position = read_images(\"./test_data\")"
   ]
  },
  {
   "cell_type": "code",
   "execution_count": 23,
   "metadata": {},
   "outputs": [],
   "source": [
    "ch00_stack, ch01_stack = return_stacks(images_per_position)"
   ]
  },
  {
   "cell_type": "code",
   "execution_count": 25,
   "metadata": {},
   "outputs": [
    {
     "data": {
      "text/plain": [
       "<Image layer 'ch01_stack' at 0x15ebb337ee0>"
      ]
     },
     "execution_count": 25,
     "metadata": {},
     "output_type": "execute_result"
    }
   ],
   "source": [
    "viewer = napari.Viewer(ndisplay=2)\n",
    "viewer.add_image(ch00_stack)\n",
    "viewer.add_image(ch01_stack)"
   ]
  }
 ],
 "metadata": {
  "kernelspec": {
   "display_name": "int_organoids",
   "language": "python",
   "name": "python3"
  },
  "language_info": {
   "codemirror_mode": {
    "name": "ipython",
    "version": 3
   },
   "file_extension": ".py",
   "mimetype": "text/x-python",
   "name": "python",
   "nbconvert_exporter": "python",
   "pygments_lexer": "ipython3",
   "version": "3.9.18"
  }
 },
 "nbformat": 4,
 "nbformat_minor": 2
}
