{
 "cells": [
  {
   "cell_type": "code",
   "execution_count": 3,
   "metadata": {},
   "outputs": [
    {
     "name": "stderr",
     "output_type": "stream",
     "text": [
      "100%|██████████| 240M/240M [00:14<00:00, 16.9MiB/s] \n"
     ]
    }
   ],
   "source": [
    "from tqdm import tqdm\n",
    "import requests\n",
    "import zipfile\n",
    "import io\n",
    "\n",
    "# The following URL expires 60 mins after creation, contact alberto.d.sanchez@ntnu.no to provide you with a new working link\n",
    "presigned_url = 'http://129.241.241.254/mhbucket/CMIC/raw_data/nuclear_translocation_3D.zip?AWSAccessKeyId=AKIA8E210FD3550BED0D&Signature=c0dXwMSNLpd5Uxm9%2BnVGe%2FKUPFk%3D&Expires=1710884439'\n",
    "\n",
    "# Stream the download to track the progress\n",
    "response = requests.get(presigned_url, stream=True)\n",
    "\n",
    "if response.status_code == 200:\n",
    "    # Get total size in bytes.\n",
    "    total_size = int(response.headers.get('content-length', 0))\n",
    "    block_size = 1024  # 1 Kibibyte\n",
    "    progress_bar = tqdm(total=total_size, unit='iB', unit_scale=True)\n",
    "    \n",
    "    content = io.BytesIO()\n",
    "    for data in response.iter_content(block_size):\n",
    "        progress_bar.update(len(data))\n",
    "        content.write(data)\n",
    "    progress_bar.close()\n",
    "    \n",
    "    # Move the cursor of the file back to the beginning\n",
    "    content.seek(0)\n",
    "    \n",
    "    # Open the .zip file in memory and extract all the contents into the desired directory\n",
    "    zip_file = zipfile.ZipFile(content)\n",
    "    zip_file.extractall(\"./\")\n",
    "else:\n",
    "    print(f\"Failed to download the file: {response.status_code}\")\n"
   ]
  }
 ],
 "metadata": {
  "kernelspec": {
   "display_name": "int_organoids",
   "language": "python",
   "name": "python3"
  },
  "language_info": {
   "codemirror_mode": {
    "name": "ipython",
    "version": 3
   },
   "file_extension": ".py",
   "mimetype": "text/x-python",
   "name": "python",
   "nbconvert_exporter": "python",
   "pygments_lexer": "ipython3",
   "version": "3.9.18"
  }
 },
 "nbformat": 4,
 "nbformat_minor": 2
}
