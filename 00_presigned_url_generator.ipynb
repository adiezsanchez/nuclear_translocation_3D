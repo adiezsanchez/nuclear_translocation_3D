{
 "cells": [
  {
   "cell_type": "code",
   "execution_count": 7,
   "metadata": {},
   "outputs": [
    {
     "name": "stdout",
     "output_type": "stream",
     "text": [
      "Pre-signed URL for CMIC/raw_data/nuclear_translocation_3D.zip: http://129.241.241.254/mhbucket/CMIC/raw_data/nuclear_translocation_3D.zip?AWSAccessKeyId=AKIA8E210FD3550BED0D&Signature=c0dXwMSNLpd5Uxm9%2BnVGe%2FKUPFk%3D&Expires=1710884439\n"
     ]
    }
   ],
   "source": [
    "import boto3\n",
    "from botocore.exceptions import NoCredentialsError\n",
    "\n",
    "# Define the repository for which you want to generate the pre-signed URL containing the raw data\n",
    "repository_url = \"https://github.com/adiezsanchez/nuclear_translocation_3D\"\n",
    "repository_name = repository_url.split(\"/\")[-1]\n",
    "\n",
    "# Configure your AWS details\n",
    "bucket_name = 'mhbucket'\n",
    "folder_path = 'CMIC/raw_data/'\n",
    "expiration = 3600  # URL expiration time in seconds\n",
    "\n",
    "# Explicitly create a session with your profile\n",
    "session = boto3.Session(profile_name='mhread')\n",
    "\n",
    "# Initialize the S3 client using the session\n",
    "s3_client = session.client('s3')\n",
    "\n",
    "try:\n",
    "    # List objects within the specified folder\n",
    "    response = s3_client.list_objects_v2(Bucket=bucket_name, Prefix=folder_path)\n",
    "    for obj in response.get('Contents', []):\n",
    "        file_name = obj['Key']\n",
    "        if file_name.endswith('.zip') and repository_name in file_name:\n",
    "            # Generate a pre-signed URL for each .zip file\n",
    "            presigned_url = s3_client.generate_presigned_url('get_object',\n",
    "                                                             Params={'Bucket': bucket_name,\n",
    "                                                                     'Key': file_name},\n",
    "                                                             ExpiresIn=expiration)\n",
    "            print(f\"Pre-signed URL for {file_name}: {presigned_url}\")\n",
    "except NoCredentialsError:\n",
    "    print(\"Credentials not available\")\n",
    "\n",
    "\n"
   ]
  }
 ],
 "metadata": {
  "kernelspec": {
   "display_name": "int_organoids",
   "language": "python",
   "name": "python3"
  },
  "language_info": {
   "codemirror_mode": {
    "name": "ipython",
    "version": 3
   },
   "file_extension": ".py",
   "mimetype": "text/x-python",
   "name": "python",
   "nbconvert_exporter": "python",
   "pygments_lexer": "ipython3",
   "version": "3.12.2"
  }
 },
 "nbformat": 4,
 "nbformat_minor": 2
}
