{
 "cells": [
  {
   "cell_type": "code",
   "execution_count": null,
   "metadata": {},
   "outputs": [],
   "source": [
    "from utils import read_images, return_stacks_per_position_id, make_isotropic\n",
    "import napari\n",
    "import pyclesperanto_prototype as cle\n",
    "from skimage.measure import regionprops_table\n",
    "import pandas as pd\n",
    "import napari_segment_blobs_and_things_with_membranes as nsbatwm"
   ]
  },
  {
   "cell_type": "code",
   "execution_count": null,
   "metadata": {},
   "outputs": [],
   "source": [
    "# Define the path containing your stacks, the position id you want to explore and the scaling in x, y and z.\n",
    "data_path = \"./raw_data/ANP32A_N4/Crop\"\n",
    "position_id = 1\n",
    "scaling_x_um = 0.342\n",
    "scaling_y_um = 0.342\n",
    "scaling_z_um = 0.663\n",
    "\n",
    "# Define the analysis parameters\n",
    "top_hat_radius = 5\n",
    "gaussian_sigma = 2\n",
    "voronoi_otsu_spot_sigma = 10\n",
    "voronoi_otsu_outline_sigma = 1\n",
    "closing_labels_radius = 5\n",
    "erosion_labels_radius = 3"
   ]
  },
  {
   "cell_type": "code",
   "execution_count": null,
   "metadata": {},
   "outputs": [],
   "source": [
    "# Retrieve the paths of all the images within data_path (ignoring ch02, brightfield channel)\n",
    "images_per_position = read_images(data_path)\n",
    "\n",
    "# Generate the ch00_stack (nuclei) and ch01_stack (protein of interest) from the individual slices \n",
    "ch00_stack, ch01_stack = return_stacks_per_position_id(images_per_position, position_id)"
   ]
  },
  {
   "cell_type": "code",
   "execution_count": null,
   "metadata": {},
   "outputs": [],
   "source": [
    "# Rescale the ch00_stack (nuclei) and ch01_stack to make data isotropic in order to apply voronoi_otsu labeling afterwards\n",
    "nuclei_resampled = make_isotropic(ch00_stack, scaling_x_um, scaling_y_um, scaling_z_um)\n",
    "marker_resampled = make_isotropic(ch01_stack, scaling_x_um, scaling_y_um, scaling_z_um)\n",
    "\n",
    "# Remove background with a top_hat_filter\n",
    "background_subtracted = cle.top_hat_box(nuclei_resampled, radius_x=5, radius_y=5, radius_z=5)\n",
    "\n",
    "# Apply gaussian blur to prevent the formation of holes upon labeling\n",
    "post_gaussian = cle.gaussian_blur(background_subtracted, sigma_x=2, sigma_y=2, sigma_z=2)\n",
    "\n",
    "# Voronoi-Otsu labeling\n",
    "segmented = cle.voronoi_otsu_labeling(post_gaussian, spot_sigma=10, outline_sigma=1)\n",
    "\n",
    "# Close holes in labels to avoid false emtpy volumes within the nuclei\n",
    "closed_labels = cle.closing_labels(segmented, radius=5)\n",
    "\n",
    "# Erode the labels to avoid quantifying protein of interest spots in close proximity but not inside the nucleus\n",
    "eroded_labels = cle.erode_labels(closed_labels, radius=3)\n",
    "\n",
    "# In order to remove labels on edges I have to remove the labels from the first and last z-planes\n",
    "# Otherwise upon applying remove_labels_on_edges (skimage.clear_border) the nuclei touching \"up\" and \"down\" will be removed\n",
    "\n",
    "# Pull eroded_labels from GPU to manipulate it as a np.array\n",
    "eroded_labels_np = cle.pull(eroded_labels)\n",
    "\n",
    "# Set the first and last slices to 0\n",
    "eroded_labels_np[0, :, :] = 0\n",
    "eroded_labels_np[-1, :, :] = 0\n",
    "\n",
    "# Once the top and bottom slices are empty (no labels) we can apply remove on edges\n",
    "remove_border_labels = nsbatwm.remove_labels_on_edges(eroded_labels_np)"
   ]
  },
  {
   "cell_type": "code",
   "execution_count": null,
   "metadata": {},
   "outputs": [],
   "source": [
    "remove_border_labels_np = cle.pull(remove_border_labels)\n",
    "marker_resampled_np = cle.pull(marker_resampled)\n",
    "\n",
    "# Extract regionprops from labels not touching the borders\n",
    "props = regionprops_table(label_image=remove_border_labels_np, intensity_image=marker_resampled_np, properties=[\"label\", \"intensity_mean\", \"intensity_max\", \"centroid\", \"area_filled\"])\n",
    "\n",
    "# Construct a dataframe\n",
    "df = pd.DataFrame(props)\n",
    "\n",
    "df"
   ]
  },
  {
   "cell_type": "code",
   "execution_count": null,
   "metadata": {},
   "outputs": [],
   "source": [
    "intensity_mean = df[\"intensity_mean\"].mean()\n",
    "intensity_mean"
   ]
  },
  {
   "cell_type": "code",
   "execution_count": null,
   "metadata": {},
   "outputs": [],
   "source": [
    "# Initialize napari.Viewer and display input stacks and label processing steps\n",
    "viewer = napari.Viewer(ndisplay=2)\n",
    "\n",
    "\n",
    "viewer.add_image(nuclei_resampled)\n",
    "viewer.add_image(marker_resampled)\n",
    "viewer.add_labels(segmented)\n",
    "viewer.add_labels(closed_labels)\n",
    "viewer.add_labels(eroded_labels)\n",
    "viewer.add_labels(remove_border_labels)"
   ]
  }
 ],
 "metadata": {
  "kernelspec": {
   "display_name": "int_organoids",
   "language": "python",
   "name": "python3"
  },
  "language_info": {
   "codemirror_mode": {
    "name": "ipython",
    "version": 3
   },
   "file_extension": ".py",
   "mimetype": "text/x-python",
   "name": "python",
   "nbconvert_exporter": "python",
   "pygments_lexer": "ipython3",
   "version": "3.9.18"
  }
 },
 "nbformat": 4,
 "nbformat_minor": 2
}
